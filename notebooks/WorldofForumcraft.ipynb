{
 "cells": [
  {
   "cell_type": "markdown",
   "metadata": {},
   "source": [
    "<h1 style=\"text-align:center;\">World of Forumcraft</h1>"
   ]
  },
  {
   "cell_type": "code",
   "execution_count": 1,
   "metadata": {
    "collapsed": true
   },
   "outputs": [],
   "source": [
    "import pandas as pd\n",
    "import MySQLdb as sql\n",
    "\n",
    "#JSON credentials\n",
    "login = pd.read_json(os.getcwd() + \"/db_credentials.json\", typ=\"series\").to_dict()\n",
    "\n",
    "def connect():\n",
    "    #db connection\n",
    "    conn = mysql.connect(host=login[\"host\"],\n",
    "                         user=login[\"user\"],\n",
    "                         passwd=login[\"passwd\"],\n",
    "                         db=login[\"db\"])            \n",
    "    cur = conn.cursor()\n",
    "    return conn, cur\n",
    "\n",
    "def readData(cols):\n",
    "    conn, cur = connect()\n",
    "    QUERY = \"SELECT %s FROM forum_data\" % (\",\".join(cols))\n",
    "    data = pd.read_sql(QUERY, con=conn)\n",
    "    return data"
   ]
  },
  {
   "cell_type": "markdown",
   "metadata": {},
   "source": [
    "Running data = readData(['datetime']) and converting datetime.date() types into timestamps, I then plotted forum activity over the last seven years."
   ]
  },
  {
   "cell_type": "code",
   "execution_count": 2,
   "metadata": {
    "collapsed": true
   },
   "outputs": [],
   "source": [
    "def timeSeries(dates, counts):\n",
    "    \"\"\"Forum activity over the last 7 years.\"\"\"\n",
    "    cmap = plt.cm.get_cmap('winter')\n",
    "    Y,X = np.histogram(timestamps,len(counts),normed=1.0)\n",
    "    y_span = Y.max()-Y.min()\n",
    "    colors = [cmap(((y-Y.min())/y_span)) for y in Y]\n",
    "    y_max = counts.sum()\n",
    "    \n",
    "    plt.figure(figsize=(20,5))\n",
    "    plt.title('US WoW Forums: Last 7 Years')\n",
    "    plt.ylabel('Forum Activity')\n",
    "    plt.bar(X[:-1],Y*y_max, width=((X.max()-X.min())/(len(X))), color=colors, align='center',linewidth=0)\n",
    "    locs = np.arange(X.min(),X.max()+1, ((X.max()-X.min())/7))\n",
    "    labs = [datetime.date.fromtimestamp(x) for x in locs]\n",
    "    \n",
    "    cata_date = time.mktime(datetime.date(2010,12,7).timetuple())\n",
    "    plt.axvline(x=cata_date,color='red',linestyle='dashed')\n",
    "    plt.text(cata_date, 0.8,'Cataclysm', color='red', rotation=45)\n",
    "    \n",
    "    mists_date = time.mktime(datetime.date(2012,9,25).timetuple())\n",
    "    plt.axvline(x=mists_date,color='red',linestyle='dashed')\n",
    "    plt.text(mists_date, 0.8,'Mists of Pandaria', color='red', rotation=45)\n",
    "    \n",
    "    warlords_date = time.mktime(datetime.date(2014,11,13).timetuple())\n",
    "    plt.axvline(x=warlords_date,color='red',linestyle='dashed')\n",
    "    plt.text(warlords_date, 0.8,'Warlords of Draenor', color='red', rotation=45)\n",
    "    \n",
    "    legion_date = time.mktime(datetime.date(2016,8,30).timetuple())\n",
    "    plt.axvline(x=legion_date,color='red',linestyle='dashed')\n",
    "    plt.text(legion_date, 0.8,'Legion', color='red', rotation=45)\n",
    "    \n",
    "    plt.xticks(locs, labs, ha='right',rotation=45)\n",
    "    plt.axis('tight')\n",
    "    plt.xlim([X.min(), X.max()])\n",
    "    plt.tight_layout()\n",
    "    plt.show()"
   ]
  },
  {
   "cell_type": "markdown",
   "metadata": {},
   "source": [
    "<img src=\"/portfolio/img/wow_plots/WoW_Forum_Activity.png\" style=\"max-width: 900px;\">"
   ]
  },
  {
   "cell_type": "markdown",
   "metadata": {},
   "source": [
    "There's a very noticeable decline in forum activity over the last seven years, which must be a combination of players both leaving the game and players no longer having an interest or need for the forums. Let's break it down even further by year."
   ]
  },
  {
   "cell_type": "code",
   "execution_count": 3,
   "metadata": {
    "collapsed": true
   },
   "outputs": [],
   "source": [
    "def yearPosts(a,b,counts):\n",
    "    counts = counts\n",
    "    idx = counts.index\n",
    "    total = counts[(idx >= datetime.date(a,1,1)) & (idx <= datetime.date(b,1,1))].sum()\n",
    "    return total\n",
    "\n",
    "def yearActivity():\n",
    "    \"\"\"Total Year Activity\"\"\"\n",
    "    plt.figure()\n",
    "    plt.title('Forum Activity by Year')\n",
    "    y = [yearPosts(2000+x,2000+x+1,counts) for x in range(11,18)]\n",
    "    x = np.arange(0,7,1)\n",
    "    labels = [str(2000+x) for x in range(11,18)]\n",
    "    plt.xticks(x,labels)\n",
    "    plt.bar(x,y, color='green',alpha=0.75)\n",
    "    plt.ylabel('Posts')\n",
    "    plt.xlabel('Year')\n",
    "    plt.show()"
   ]
  },
  {
   "cell_type": "markdown",
   "metadata": {},
   "source": [
    "<img src=\"/portfolio/img/wow_plots/WoW_Forum_Activity_By_Year.png\" style=\"max-width: 600px;\">"
   ]
  },
  {
   "cell_type": "markdown",
   "metadata": {},
   "source": [
    "There's a clear drop in forum activity by roughly 37.5% from 2011 to 2016. Could this be due to player's not responding well to recent expansions, e.g. Mists of Pandaria, Warlords of Draenor? To find out, I made sure to leave out duplicate character names so that we could tally up how many unique players were active on the forums per expansion era."
   ]
  },
  {
   "cell_type": "code",
   "execution_count": 4,
   "metadata": {
    "collapsed": true
   },
   "outputs": [],
   "source": [
    "def postByExpansion():\n",
    "    \"\"\"Individual player activity.\"\"\"\n",
    "    plt.figure()\n",
    "    plt.title('WoW Forum Posts By Expansion')\n",
    "    y = df['expansion'].value_counts().values\n",
    "    x = np.arange(1,5,1)\n",
    "    labels = ['Cataclysm', 'Mists of Pandaria', 'Warlords of Draenor', 'Legion']\n",
    "    plt.bar(x,y, color='blue', alpha = 0.5)\n",
    "    plt.xticks(x,labels, rotation=45)\n",
    "    plt.ylabel('Player Posts')\n",
    "    plt.show()"
   ]
  },
  {
   "cell_type": "markdown",
   "metadata": {},
   "source": [
    "<img src=\"/portfolio/img/wow_plots/WoW_Forum_Activity_By_Expansion.png\" style=\"max-width: 600px;\">"
   ]
  },
  {
   "cell_type": "markdown",
   "metadata": {},
   "source": [
    "Clearly, the number of unique posters has dwindled since Cataclysm, with a large dip occurring after Mists of Pandaria. Legion is about halfway through its run, and with a new expansion arising every two years or so, and so the actual forum activity by the end of its run should be much higher by then. So if players are leaving the forums, exactly how long are they staying? To find this out, we can determine the time of each player's first and most recent post and calculate the difference. Note that players who posted once will be considered to have used the forum for a single day rather than zero days."
   ]
  },
  {
   "cell_type": "code",
   "execution_count": 5,
   "metadata": {
    "collapsed": true
   },
   "outputs": [],
   "source": [
    "def durations():\n",
    "    \"\"\"Average number of days spent active on forums per player.\"\"\"\n",
    "    plt.figure()\n",
    "    x = df['days']\n",
    "    plt.title('Average Duration of Forum Participation (Bins = 100)')\n",
    "    plt.hist(x, normed=True, bins=100, color='red')\n",
    "    plt.axis('tight')\n",
    "    plt.ylabel('Duration Probability')\n",
    "    plt.xlabel('Days')\n",
    "    plt.xlim([x.min()-50,x.max()+50])\n",
    "    plt.tight_layout()\n",
    "    plt.show()"
   ]
  },
  {
   "cell_type": "markdown",
   "metadata": {},
   "source": [
    "<img src=\"/portfolio/img/wow_plots/WoW_Forum_Durations.png\" style=\"max-width: 600px;\">"
   ]
  },
  {
   "cell_type": "markdown",
   "metadata": {},
   "source": [
    "This is a rather interesting find! Assuming that players post with their primary characters, the WoW community appears somewhat polarized, with two groups having formed: one where player's are active for a single day and the other where players are active for years. This, of course, does not mean such players exhibit continuous activity, but it at least means that these players, or at least their game characters, have returned to the forums rather than have been dissolved into the twisting nether! With this sort of distribution, is it possible to form a decent model which could predict the likelihood of a player/character returning for a second post? For simplicity, we can try setting our labels as One-off Posters and Return Posters with post counts equal to 1 and greater than 1, respectively. "
   ]
  },
  {
   "cell_type": "code",
   "execution_count": 6,
   "metadata": {
    "collapsed": true
   },
   "outputs": [],
   "source": [
    "def readSamples(cols):\n",
    "    conn, cur = connect()\n",
    "    QUERY_SINGLE_POSTS = \"\"\"\n",
    "                        SELECT %s FROM forum_data AS r1 JOIN\n",
    "                        (SELECT (RAND() * (SELECT MAX(id) FROM forum_data)) AS id)\n",
    "                        AS r2 WHERE (r1.id >= r2.id AND postCount = 1) ORDER BY r1.id ASC\n",
    "                        LIMIT 500000;\n",
    "                        \"\"\" % (\",\".join(cols))\n",
    "    \n",
    "    QUERY_MULTI_POSTS = \"\"\"\n",
    "                        SELECT %s FROM forum_data AS r1 JOIN\n",
    "                        (SELECT (RAND() * (SELECT MAX(id) FROM forum_data)) AS id)\n",
    "                        AS r2 WHERE (r1.id >= r2.id AND postCount > 1) ORDER BY r1.id ASC\n",
    "                        LIMIT 500000;\n",
    "                        \"\"\" % (\",\".join(cols))\n",
    "\n",
    "    x = pd.read_sql(QUERY_SINGLE_POSTS, con=conn)\n",
    "    y = pd.read_sql(QUERY_MULTI_POSTS, con=conn)\n",
    "    data = pd.concat([x, y], axis=0)\n",
    "    return data"
   ]
  },
  {
   "cell_type": "markdown",
   "metadata": {},
   "source": [
    "The above code allows us to query a random selection of One-off and Return posters for modeling purposes. Running a model on the entire dataset would not be reasonable for my meek machine."
   ]
  },
  {
   "cell_type": "code",
   "execution_count": 7,
   "metadata": {
    "collapsed": true
   },
   "outputs": [],
   "source": [
    "def sequence():\n",
    "    model = readSamples(['lvlRaceClass','postCount','postText'])\n",
    "\n",
    "    \"\"\"We need to set our labels for one-time posters vs. return posters.\"\"\"\n",
    "    model['posCount'] = model['postCount'].replace({r'[a-zA-z]+': np.nan}, regex=True)\n",
    "    model = model.dropna().reset_index(drop=True)\n",
    "    model['postCount'] = model['postCount'].astype('int')\n",
    "    model['poster'] = np.where(model['postCount'] == 1, 'One-off Poster', 'Return Poster')\n",
    "\n",
    "    \"\"\"Let's extract level data from the players to add as a feature.\"\"\"\n",
    "    Levels = {r\".*NaN.*\": np.nan,\n",
    "              r\"[a-zA-z ]\": \"\"}\n",
    "    model['level'] = model['lvlRaceClass'].replace(Levels, regex=True)\n",
    "    model = model.dropna().reset_index(drop=True)\n",
    "    model['level'] = model['level'].astype('int')\n",
    "    model['level'] = (model['level']-model['level'].min())/(model['level'].max()-model['level'].min())\n",
    "\n",
    "    from sklearn.utils import shuffle\n",
    "    model = shuffle(model)"
   ]
  },
  {
   "cell_type": "markdown",
   "metadata": {},
   "source": [
    "The above sequence of commands was used to import the data, set our labels, and clean up the level of each player as a feature. We will also be vectorizing player posts to extract further, more definitive, features."
   ]
  },
  {
   "cell_type": "code",
   "execution_count": 8,
   "metadata": {
    "collapsed": true
   },
   "outputs": [],
   "source": [
    "#Vectorize post text.\n",
    "import nltk\n",
    "from nltk.corpus import stopwords\n",
    "from nltk.stem.wordnet import WordNetLemmatizer\n",
    "from sklearn.feature_extraction.text import TfidfVectorizer\n",
    "\n",
    "def vectorization_of_posts():\n",
    "    def my_tokenizer(words):\n",
    "        lem = WordNetLemmatizer()\n",
    "        return [lem.lemmatize(word,'n').lower() for\n",
    "                word in nltk.word_tokenize(words) if len(word.lower()) >= 3]\n",
    "\n",
    "    vectorizer = TfidfVectorizer(ngram_range=(1,3), stop_words='english', tokenizer=my_tokenizer)\n",
    "    vector_matrix = vectorizer.fit_transform(model['postText'])\n",
    "\n",
    "from scipy.sparse import hstack\n",
    "def features_and_labels():\n",
    "    features = hstack((vector_matrix, np.array(model['level'])[:, None]))\n",
    "    labels = model['poster']"
   ]
  },
  {
   "cell_type": "markdown",
   "metadata": {},
   "source": [
    "The above two functions are then used to vectorize each post text using a customized tokenizer. Once the sparse Tfidf matrix is completed, we stack player level column with the matrix using hstack() so that the model can be trained on a combination of player level and post text. Labels are, of course, the poster's status of either a One-off Poster or a Return Poster."
   ]
  },
  {
   "cell_type": "code",
   "execution_count": 9,
   "metadata": {
    "collapsed": true
   },
   "outputs": [],
   "source": [
    "import sklearn\n",
    "from sklearn.model_selection import GridSearchCV\n",
    "from sklearn.metrics import classification_report\n",
    "from sklearn.linear_model import LogisticRegression\n",
    "from sklearn.model_selection import train_test_split\n",
    "\n",
    "def grid_search():\n",
    "    f_train, f_test, l_train, l_test = train_test_split(features, labels, test_size = 0.3)\n",
    "\n",
    "    for score in ['precision','recall']:\n",
    "    \n",
    "        parameters = [{'class_weight':['balanced'],'C':[1.0, 10.0, 25.0, 50.0, 75.0, 100.0]}]\n",
    "    \n",
    "        print(\"### Tuning hyper-parameters for %s ###\" % score)\n",
    "        print()\n",
    "\n",
    "        clf = GridSearchCV(LogisticRegression(), parameters, n_jobs=4, \n",
    "                           cv = 5, scoring='%s_macro' % score)\n",
    "        clf.fit(f_train, l_train)\n",
    "\n",
    "        print(\"Best parameter set found:\")\n",
    "        print()\n",
    "        print(clf.best_params_)\n",
    "        print()\n",
    "        print(\"Grid scores on development set:\")\n",
    "        print()\n",
    "    \n",
    "        means = clf.cv_results_['mean_test_score']\n",
    "        stds = clf.cv_results_['std_test_score']\n",
    "        for mean, std, params in zip(means, stds, clf.cv_results_['params']):\n",
    "            print(\"%0.3f (+/-%0.03f) for %r\" % (mean, std * 2, params))\n",
    "        \n",
    "        print()\n",
    "\n",
    "        print(\"Classification report: \")\n",
    "        print()\n",
    "        print(\"The model is trained on the full development set.\")\n",
    "        print(\"The scores are computed on the full evaluation set.\")\n",
    "        print()\n",
    "        l_true, l_pred = l_test, clf.predict(f_test)\n",
    "        print(classification_report(l_true, l_pred))\n",
    "        print()"
   ]
  },
  {
   "cell_type": "markdown",
   "metadata": {},
   "source": [
    "<img src=\"/portfolio/img/wow_plots/classification_wow_posters.png\" style=\"max-width: 600px;\">"
   ]
  },
  {
   "cell_type": "markdown",
   "metadata": {},
   "source": [
    "Performing a grid search can help with the tuning hyperparameters for our classifier. With a non-exhaustive search we're able to find a decent value for 'C' to improve both precision and recall on our test set. The grid search can be very slow, and is especially slow on my meek machine. With a bit of tuning and patience we could improve this 91% precision/recall score even further. Our options would be to either extract further features or try different classifiers. For now, we have a good launching point for predicting the probability that someone will be a one-off poster or a return poster on the forums based primarily on the text of their post and character's level."
   ]
  },
  {
   "cell_type": "markdown",
   "metadata": {},
   "source": [
    "<h1 style=\"text-align: center;\">Recommendation System</h1>\n",
    "<br>\n",
    "<br>\n",
    "Aside from predicting one-time posters versus return posters, we may also want to use the available features in the data to build a recommendation system. In this case, it is desirable to use each player's level, achievements, and faction since we want to recommend players of on the same side with similar skill levels. "
   ]
  },
  {
   "cell_type": "code",
   "execution_count": 10,
   "metadata": {
    "collapsed": true
   },
   "outputs": [],
   "source": [
    "import numpy as np\n",
    "\n",
    "def readSample(cols):\n",
    "    conn, cur = connect()\n",
    "    QUERY = \"SELECT %s FROM forum_data ORDER BY RAND() LIMIT 1000000\" % (\",\".join(cols))\n",
    "    QUERY = \"\"\"\n",
    "            SELECT %s FROM forum_data AS r1 JOIN\n",
    "            (SELECT (RAND() * (SELECT MAX(id) FROM forum_data)) AS id)\n",
    "            AS r2 WHERE r1.id >= r2.id ORDER BY r1.id ASC\n",
    "            LIMIT 3000000;\n",
    "            \"\"\" % (\",\".join(cols))\n",
    "    data = pd.read_sql(QUERY, con=conn)\n",
    "    return data\n",
    "\n",
    "Factions = {r'.*Human.*': 'Alliance',\n",
    "            r'.*Dwarf.*': 'Alliance',\n",
    "            r'.*Gnome.*': 'Alliance',\n",
    "            r'.*Night Elf.*': 'Alliance',\n",
    "            r'.*Draenei.*': 'Alliance',\n",
    "            r'.*Worgen.*': 'Alliance',\n",
    "            r'.*Orc.*': 'Horde',\n",
    "            r'.*Troll.*': 'Horde',\n",
    "            r'.*Undead.*': 'Horde',\n",
    "            r'.*Tauren.*': 'Horde',\n",
    "            r'.*Goblin.*': 'Horde',\n",
    "            r'.*Blood Elf.*': 'Horde',\n",
    "            r'.*Pandaren.*': 'Pandaren',\n",
    "            r'.*NaN.*': 'Staff'}\n",
    "\n",
    "Levels = {r\".*NaN.*\": np.nan,\n",
    "          r\"[a-zA-z ]\": \"\"}\n",
    "\n",
    "Achievements = {r\".*NaN.*\": np.nan}\n",
    "\n",
    "data = readSample(['lvlRaceClass','achievements'])\n",
    "\n",
    "data['faction'] = data['lvlRaceClass'].replace(Factions, regex=True)\n",
    "data['level'] = data['lvlRaceClass'].replace(Levels, regex=True)\n",
    "data['achievements'] = data['achievements'].replace(Achievements, regex=True)\n",
    "\n",
    "df = data[['level','achievements','faction','lvlRaceClass']].copy()\n",
    "df = df.dropna().reset_index(drop=True)\n",
    "df['faction'] = pd.get_dummies(df['faction'])\n",
    "df = df.drop_duplicates().reset_index(drop=True)\n",
    "player_arrays = df[['level','achievements','faction']].as_matrix().astype('float')"
   ]
  },
  {
   "cell_type": "markdown",
   "metadata": {},
   "source": [
    "Here, we are just setting and cleaning up feature columns. The important bit of code is when we set these features into a matrix. In order to recommend matched players we'll be using cosine distance which essentially quantifies how close two vectors are to one another. "
   ]
  },
  {
   "cell_type": "code",
   "execution_count": 11,
   "metadata": {
    "collapsed": true
   },
   "outputs": [],
   "source": [
    "class wowRecommender():\n",
    "\n",
    "    def __init__(self):\n",
    "        self.player_arrays = player_arrays\n",
    "    \n",
    "    def cosDist(self, x,y):\n",
    "        num = np.dot(x,y)\n",
    "        den = np.sqrt(np.dot(x,x)*np.dot(y,y))+1e-6\n",
    "        return (1.-(num/den))\n",
    "\n",
    "    def cosSim(self, player, player_arrays):\n",
    "        N = len(player_arrays)\n",
    "        distances = np.zeros(N)\n",
    "        for idx in range(N):\n",
    "            distances[idx] = self.cosDist(player, self.player_arrays[idx])\n",
    "        return distances\n",
    "            \n",
    "    def recommend(self, idx):\n",
    "        player = self.player_arrays[idx]\n",
    "        print(\"\\nPlayer: \"+str(df['lvlRaceClass'][idx])+str(\" \")+str(df['achievements'][idx]))\n",
    "        distances = self.cosSim(player, self.player_arrays)\n",
    "        ids = distances.argsort()[1:6]\n",
    "        print(\"\\nRecommendations: \")\n",
    "        for i in range(len(ids)):\n",
    "            print(str(i+1) + \". \" + str(df['lvlRaceClass'][ids[i]])+str(\" \")+str(df['achievements'][ids[i]]))"
   ]
  },
  {
   "cell_type": "markdown",
   "metadata": {},
   "source": [
    "There are three primary methods in the recommender class above. The first, cosDist, calculates the cosine distance between two vectors by returning 1 - cos(theta), where cos(theta) is represented by the scalar product term and theta is the angle between the two vectors, x and y. In the absence of negative values, the cosine term varies between 0 and 1 and so cosine distances of 0 represent the case where vector x and y are identical. The second method, cosSim, calculates an array of cosine distances from our feature matrix where there are N*(N-1)/2 unique pairs between all vector rows. Lastly, the recommend method sorts the 5 shortest cosine distances from the player in question. Let's see it in action!"
   ]
  },
  {
   "cell_type": "code",
   "execution_count": 12,
   "metadata": {},
   "outputs": [
    {
     "name": "stdout",
     "output_type": "stream",
     "text": [
      "\n",
      "Player: 100 Blood Elf Monk 10625\n",
      "\n",
      "Recommendations: \n",
      "1. 100 Pandaren Warrior 10625\n",
      "2. 100 Blood Elf Monk 10625\n",
      "3. 100 Undead Priest 10625\n",
      "4. 100 Tauren Druid 10625\n",
      "5. 100 Blood Elf Rogue 10625\n"
     ]
    }
   ],
   "source": [
    "recommender = wowRecommender()\n",
    "recommender.recommend(81132)"
   ]
  },
  {
   "cell_type": "code",
   "execution_count": 13,
   "metadata": {},
   "outputs": [
    {
     "name": "stdout",
     "output_type": "stream",
     "text": [
      "\n",
      "Player: 85 Draenei Death Knight 2870\n",
      "\n",
      "Recommendations: \n",
      "1. 85 Human Mage 2870\n",
      "2. 85 Night Elf Rogue 2870\n",
      "3. 85 Worgen Rogue 2870\n",
      "4. 85 Draenei Death Knight 2870\n",
      "5. 85 Human Priest 2870\n"
     ]
    }
   ],
   "source": [
    "recommender.recommend(44020)"
   ]
  },
  {
   "cell_type": "code",
   "execution_count": 14,
   "metadata": {},
   "outputs": [
    {
     "name": "stdout",
     "output_type": "stream",
     "text": [
      "\n",
      "Player: 110 Blood Elf Death Knight 11305\n",
      "\n",
      "Recommendations: \n",
      "1. 110 Tauren Paladin 11305\n",
      "2. 110 Blood Elf Paladin 11305\n",
      "3. 110 Orc Rogue 11305\n",
      "4. 110 Blood Elf Hunter 11305\n",
      "5. 110 Undead Priest 11305\n"
     ]
    }
   ],
   "source": [
    "recommender.recommend(331)"
   ]
  },
  {
   "cell_type": "markdown",
   "metadata": {},
   "source": [
    "To our delight, the system recommends other players on the same faction who have similar level and achievement scores. Given the practicality of playing with others with different skill sets, there's no need to include in-game class. This kind of system can be fully generalized and extended to all sorts of other datasets, allowing us to make recommendations elsewhere."
   ]
  },
  {
   "cell_type": "markdown",
   "metadata": {},
   "source": [
    "<h1 style=\"text-align: center;\">Conclusions<h1>"
   ]
  },
  {
   "cell_type": "markdown",
   "metadata": {},
   "source": [
    "<ul>\n",
    "<li>WoW forum activity has been significantly declining over the past 7 years.</li>\n",
    "<li>A large number of players/characters have only used the forums once.</li>\n",
    "<li>A classifier can be trained to predict whether a player will be a one-time poster or not.</li>\n",
    "<li>A Recommendation system can be implemented to match like-leveled players with similar achievement scores.</li>\n",
    "</ul>"
   ]
  }
 ],
 "metadata": {
  "kernelspec": {
   "display_name": "Python 3",
   "language": "python",
   "name": "python3"
  },
  "language_info": {
   "codemirror_mode": {
    "name": "ipython",
    "version": 3
   },
   "file_extension": ".py",
   "mimetype": "text/x-python",
   "name": "python",
   "nbconvert_exporter": "python",
   "pygments_lexer": "ipython3",
   "version": "3.6.2"
  }
 },
 "nbformat": 4,
 "nbformat_minor": 2
}
