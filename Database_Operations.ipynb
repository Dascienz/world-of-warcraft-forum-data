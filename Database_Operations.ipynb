{
 "cells": [
  {
   "cell_type": "code",
   "execution_count": 1,
   "metadata": {
    "collapsed": true
   },
   "outputs": [],
   "source": [
    "import os\n",
    "import sys\n",
    "import time\n",
    "import pandas as pd\n",
    "import MySQLdb as mysql\n",
    "import matplotlib.pyplot as plt"
   ]
  },
  {
   "cell_type": "code",
   "execution_count": 2,
   "metadata": {},
   "outputs": [
    {
     "name": "stdout",
     "output_type": "stream",
     "text": [
      "3.6.5 |Anaconda custom (64-bit)| (default, Apr 26 2018, 08:42:37) \n",
      "[GCC 4.2.1 Compatible Clang 4.0.1 (tags/RELEASE_401/final)]\n"
     ]
    }
   ],
   "source": [
    "print(sys.version)"
   ]
  },
  {
   "cell_type": "code",
   "execution_count": 3,
   "metadata": {
    "collapsed": true
   },
   "outputs": [],
   "source": [
    "#JSON credentials\n",
    "login = pd.read_json(os.getcwd() + \"/db_credentials.json\", typ=\"series\").to_dict()\n",
    "\n",
    "#db connection\n",
    "conn = mysql.connect(host=login[\"host\"],\n",
    "                     user=login[\"user\"],\n",
    "                     passwd=login[\"passwd\"],\n",
    "                     db=login[\"db\"])    \n",
    "\n",
    "#db cursor\n",
    "cur = conn.cursor()"
   ]
  },
  {
   "cell_type": "code",
   "execution_count": 4,
   "metadata": {
    "collapsed": true
   },
   "outputs": [],
   "source": [
    "def result_set(query):\n",
    "    \"\"\" Function for performing MySQL queries.\n",
    "    ----- Args:\n",
    "            Takes input str query.\n",
    "    ----- Returns:\n",
    "            sql result set as a pandas.DataFrame\n",
    "    \"\"\"\n",
    "    return pd.read_sql(query, con=conn)"
   ]
  },
  {
   "cell_type": "code",
   "execution_count": 5,
   "metadata": {},
   "outputs": [
    {
     "data": {
      "text/html": [
       "<div>\n",
       "<style>\n",
       "    .dataframe thead tr:only-child th {\n",
       "        text-align: right;\n",
       "    }\n",
       "\n",
       "    .dataframe thead th {\n",
       "        text-align: left;\n",
       "    }\n",
       "\n",
       "    .dataframe tbody tr th {\n",
       "        vertical-align: top;\n",
       "    }\n",
       "</style>\n",
       "<table border=\"1\" class=\"dataframe\">\n",
       "  <thead>\n",
       "    <tr style=\"text-align: right;\">\n",
       "      <th></th>\n",
       "      <th>ROWS</th>\n",
       "    </tr>\n",
       "  </thead>\n",
       "  <tbody>\n",
       "    <tr>\n",
       "      <th>0</th>\n",
       "      <td>40623785</td>\n",
       "    </tr>\n",
       "  </tbody>\n",
       "</table>\n",
       "</div>"
      ],
      "text/plain": [
       "       ROWS\n",
       "0  40623785"
      ]
     },
     "execution_count": 5,
     "metadata": {},
     "output_type": "execute_result"
    }
   ],
   "source": [
    "#NUMBER OF POSTS IN THE DATABASE\n",
    "result_set('SELECT MAX(id) AS ROWS FROM forum_data')"
   ]
  },
  {
   "cell_type": "markdown",
   "metadata": {},
   "source": [
    "### Changing Datetime Column"
   ]
  },
  {
   "cell_type": "code",
   "execution_count": 6,
   "metadata": {
    "collapsed": true
   },
   "outputs": [],
   "source": [
    "#cur.execute(\"UPDATE forum_data SET datetime = STR_TO_DATE(datetime,'%m/%d/%Y %h:%i %p');\")\n",
    "#conn.commit()"
   ]
  },
  {
   "cell_type": "markdown",
   "metadata": {},
   "source": [
    "### Export Player Data"
   ]
  },
  {
   "cell_type": "code",
   "execution_count": 7,
   "metadata": {},
   "outputs": [
    {
     "data": {
      "text/html": [
       "<div>\n",
       "<style>\n",
       "    .dataframe thead tr:only-child th {\n",
       "        text-align: right;\n",
       "    }\n",
       "\n",
       "    .dataframe thead th {\n",
       "        text-align: left;\n",
       "    }\n",
       "\n",
       "    .dataframe tbody tr th {\n",
       "        vertical-align: top;\n",
       "    }\n",
       "</style>\n",
       "<table border=\"1\" class=\"dataframe\">\n",
       "  <thead>\n",
       "    <tr style=\"text-align: right;\">\n",
       "      <th></th>\n",
       "      <th>id</th>\n",
       "      <th>name</th>\n",
       "      <th>lvlRaceClass</th>\n",
       "      <th>achievements</th>\n",
       "      <th>postCount</th>\n",
       "      <th>datetime</th>\n",
       "      <th>postText</th>\n",
       "    </tr>\n",
       "  </thead>\n",
       "  <tbody>\n",
       "    <tr>\n",
       "      <th>0</th>\n",
       "      <td>1</td>\n",
       "      <td>Ornyx</td>\n",
       "      <td>NaN</td>\n",
       "      <td>NaN</td>\n",
       "      <td>1282</td>\n",
       "      <td>2016-09-01 00:02:00</td>\n",
       "      <td>Heroes of the Horde and the Alliance, Azeroth ...</td>\n",
       "    </tr>\n",
       "    <tr>\n",
       "      <th>1</th>\n",
       "      <td>2</td>\n",
       "      <td>Blakkwydow</td>\n",
       "      <td>110 Blood Elf Warrior</td>\n",
       "      <td>22360</td>\n",
       "      <td>14</td>\n",
       "      <td>2017-11-04 15:00:00</td>\n",
       "      <td>This has been an ongoing and increasingly wors...</td>\n",
       "    </tr>\n",
       "    <tr>\n",
       "      <th>2</th>\n",
       "      <td>3</td>\n",
       "      <td>Perl</td>\n",
       "      <td>14 Blood Elf Priest</td>\n",
       "      <td>0</td>\n",
       "      <td>31844</td>\n",
       "      <td>2017-11-04 15:03:00</td>\n",
       "      <td>If it's a bug, the best place to report it is ...</td>\n",
       "    </tr>\n",
       "    <tr>\n",
       "      <th>3</th>\n",
       "      <td>4</td>\n",
       "      <td>Healsprocket</td>\n",
       "      <td>110 Gnome Priest</td>\n",
       "      <td>19450</td>\n",
       "      <td>70</td>\n",
       "      <td>2017-11-04 17:34:00</td>\n",
       "      <td>Have been trying to connect for about half an ...</td>\n",
       "    </tr>\n",
       "    <tr>\n",
       "      <th>4</th>\n",
       "      <td>5</td>\n",
       "      <td>Kuddlebugg</td>\n",
       "      <td>106 Gnome Mage</td>\n",
       "      <td>8295</td>\n",
       "      <td>3753</td>\n",
       "      <td>2017-11-04 15:04:00</td>\n",
       "      <td>What happens when you try?  Do you disconnect ...</td>\n",
       "    </tr>\n",
       "    <tr>\n",
       "      <th>5</th>\n",
       "      <td>6</td>\n",
       "      <td>Blakkwydow</td>\n",
       "      <td>110 Blood Elf Warrior</td>\n",
       "      <td>22360</td>\n",
       "      <td>14</td>\n",
       "      <td>2017-11-04 15:49:00</td>\n",
       "      <td>I disconnect after a very long loading screen,...</td>\n",
       "    </tr>\n",
       "    <tr>\n",
       "      <th>6</th>\n",
       "      <td>7</td>\n",
       "      <td>Kozzae</td>\n",
       "      <td>110 Troll Rogue</td>\n",
       "      <td>20750</td>\n",
       "      <td>18653</td>\n",
       "      <td>2017-11-04 17:40:00</td>\n",
       "      <td>You will want to post in the tech support foru...</td>\n",
       "    </tr>\n",
       "    <tr>\n",
       "      <th>7</th>\n",
       "      <td>8</td>\n",
       "      <td>Healsprocket</td>\n",
       "      <td>110 Gnome Priest</td>\n",
       "      <td>19450</td>\n",
       "      <td>70</td>\n",
       "      <td>2017-11-04 17:48:00</td>\n",
       "      <td>Thanks. I went ahead and posted under someone ...</td>\n",
       "    </tr>\n",
       "    <tr>\n",
       "      <th>8</th>\n",
       "      <td>9</td>\n",
       "      <td>Azevara</td>\n",
       "      <td>110 Blood Elf Priest</td>\n",
       "      <td>18175</td>\n",
       "      <td>9641</td>\n",
       "      <td>2017-11-05 08:01:00</td>\n",
       "      <td>Double up the digits and double down on fun.Pl...</td>\n",
       "    </tr>\n",
       "    <tr>\n",
       "      <th>9</th>\n",
       "      <td>10</td>\n",
       "      <td>Regg</td>\n",
       "      <td>110 Blood Elf Rogue</td>\n",
       "      <td>15300</td>\n",
       "      <td>13920</td>\n",
       "      <td>2017-11-05 08:02:00</td>\n",
       "      <td>Execute Lounge 66.    /Palpatine</td>\n",
       "    </tr>\n",
       "  </tbody>\n",
       "</table>\n",
       "</div>"
      ],
      "text/plain": [
       "   id          name           lvlRaceClass achievements postCount  \\\n",
       "0   1         Ornyx                    NaN          NaN      1282   \n",
       "1   2    Blakkwydow  110 Blood Elf Warrior        22360        14   \n",
       "2   3          Perl    14 Blood Elf Priest            0     31844   \n",
       "3   4  Healsprocket       110 Gnome Priest        19450        70   \n",
       "4   5    Kuddlebugg         106 Gnome Mage         8295      3753   \n",
       "5   6    Blakkwydow  110 Blood Elf Warrior        22360        14   \n",
       "6   7        Kozzae        110 Troll Rogue        20750     18653   \n",
       "7   8  Healsprocket       110 Gnome Priest        19450        70   \n",
       "8   9       Azevara   110 Blood Elf Priest        18175      9641   \n",
       "9  10          Regg    110 Blood Elf Rogue        15300     13920   \n",
       "\n",
       "              datetime                                           postText  \n",
       "0  2016-09-01 00:02:00  Heroes of the Horde and the Alliance, Azeroth ...  \n",
       "1  2017-11-04 15:00:00  This has been an ongoing and increasingly wors...  \n",
       "2  2017-11-04 15:03:00  If it's a bug, the best place to report it is ...  \n",
       "3  2017-11-04 17:34:00  Have been trying to connect for about half an ...  \n",
       "4  2017-11-04 15:04:00  What happens when you try?  Do you disconnect ...  \n",
       "5  2017-11-04 15:49:00  I disconnect after a very long loading screen,...  \n",
       "6  2017-11-04 17:40:00  You will want to post in the tech support foru...  \n",
       "7  2017-11-04 17:48:00  Thanks. I went ahead and posted under someone ...  \n",
       "8  2017-11-05 08:01:00  Double up the digits and double down on fun.Pl...  \n",
       "9  2017-11-05 08:02:00                   Execute Lounge 66.    /Palpatine  "
      ]
     },
     "execution_count": 7,
     "metadata": {},
     "output_type": "execute_result"
    }
   ],
   "source": [
    "result_set('SELECT * FROM forum_data LIMIT 10')"
   ]
  },
  {
   "cell_type": "code",
   "execution_count": 8,
   "metadata": {},
   "outputs": [
    {
     "name": "stdout",
     "output_type": "stream",
     "text": [
      "Runtime: 674.9 seconds.\n"
     ]
    }
   ],
   "source": [
    "t1 = time.time()\n",
    "\n",
    "results = result_set(\"\"\"\\\n",
    "SELECT name, lvlRaceClass AS class, achievements, MIN(datetime) AS min_date, MAX(datetime) AS max_date \n",
    "FROM forum_data\n",
    "GROUP BY name, lvlRaceClass, achievements\n",
    "\"\"\")\n",
    "\n",
    "t2 = time.time()\n",
    "\n",
    "print(\"Runtime: %.1f seconds.\" % (t2-t1))"
   ]
  },
  {
   "cell_type": "code",
   "execution_count": 10,
   "metadata": {
    "collapsed": true
   },
   "outputs": [],
   "source": [
    "results.to_pickle(os.getcwd() + '/wow_player_stats.pkl')"
   ]
  }
 ],
 "metadata": {
  "kernelspec": {
   "display_name": "Python 3",
   "language": "python",
   "name": "python3"
  },
  "language_info": {
   "codemirror_mode": {
    "name": "ipython",
    "version": 3
   },
   "file_extension": ".py",
   "mimetype": "text/x-python",
   "name": "python",
   "nbconvert_exporter": "python",
   "pygments_lexer": "ipython3",
   "version": "3.6.5"
  }
 },
 "nbformat": 4,
 "nbformat_minor": 2
}
