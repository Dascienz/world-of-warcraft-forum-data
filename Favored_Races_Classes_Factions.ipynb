{
 "cells": [
  {
   "cell_type": "code",
   "execution_count": 1,
   "metadata": {
    "collapsed": true
   },
   "outputs": [],
   "source": [
    "import os\n",
    "import sys\n",
    "import numpy as np\n",
    "import pandas as pd\n",
    "import seaborn as sns\n",
    "import matplotlib.pyplot as plt"
   ]
  },
  {
   "cell_type": "code",
   "execution_count": 2,
   "metadata": {},
   "outputs": [
    {
     "name": "stdout",
     "output_type": "stream",
     "text": [
      "3.6.5 |Anaconda custom (64-bit)| (default, Apr 26 2018, 08:42:37) \n",
      "[GCC 4.2.1 Compatible Clang 4.0.1 (tags/RELEASE_401/final)]\n"
     ]
    }
   ],
   "source": [
    "print(sys.version)"
   ]
  },
  {
   "cell_type": "code",
   "execution_count": 3,
   "metadata": {
    "collapsed": true
   },
   "outputs": [],
   "source": [
    "data = pd.read_pickle(os.getcwd() + '/pickle/wow_player_stats_cleaned.pkl')"
   ]
  },
  {
   "cell_type": "markdown",
   "metadata": {},
   "source": [
    "# Which Races, Classes and Factions are Favored Over Others?"
   ]
  },
  {
   "cell_type": "code",
   "execution_count": 30,
   "metadata": {},
   "outputs": [],
   "source": [
    "df = data[(data['race'] != 'NaN') &\\\n",
    "          (data['level'] == '110')][['race-class','race','class','faction','min_date','max_date']].copy()"
   ]
  },
  {
   "cell_type": "code",
   "execution_count": 35,
   "metadata": {},
   "outputs": [
    {
     "data": {
      "text/html": [
       "<div>\n",
       "<style>\n",
       "    .dataframe thead tr:only-child th {\n",
       "        text-align: right;\n",
       "    }\n",
       "\n",
       "    .dataframe thead th {\n",
       "        text-align: left;\n",
       "    }\n",
       "\n",
       "    .dataframe tbody tr th {\n",
       "        vertical-align: top;\n",
       "    }\n",
       "</style>\n",
       "<table border=\"1\" class=\"dataframe\">\n",
       "  <thead>\n",
       "    <tr style=\"text-align: right;\">\n",
       "      <th></th>\n",
       "      <th>race-class</th>\n",
       "      <th>race</th>\n",
       "      <th>class</th>\n",
       "      <th>faction</th>\n",
       "      <th>min_date</th>\n",
       "      <th>max_date</th>\n",
       "    </tr>\n",
       "  </thead>\n",
       "  <tbody>\n",
       "    <tr>\n",
       "      <th>count</th>\n",
       "      <td>414487</td>\n",
       "      <td>414487</td>\n",
       "      <td>414487</td>\n",
       "      <td>414487</td>\n",
       "      <td>414487</td>\n",
       "      <td>414487</td>\n",
       "    </tr>\n",
       "    <tr>\n",
       "      <th>unique</th>\n",
       "      <td>111</td>\n",
       "      <td>13</td>\n",
       "      <td>11</td>\n",
       "      <td>3</td>\n",
       "      <td>349476</td>\n",
       "      <td>332870</td>\n",
       "    </tr>\n",
       "    <tr>\n",
       "      <th>top</th>\n",
       "      <td>Night Elf Druid</td>\n",
       "      <td>Blood Elf</td>\n",
       "      <td>Hunter</td>\n",
       "      <td>Alliance</td>\n",
       "      <td>2017-06-13 22:16:00</td>\n",
       "      <td>2017-06-13 22:16:00</td>\n",
       "    </tr>\n",
       "    <tr>\n",
       "      <th>freq</th>\n",
       "      <td>21983</td>\n",
       "      <td>81371</td>\n",
       "      <td>69746</td>\n",
       "      <td>201283</td>\n",
       "      <td>28</td>\n",
       "      <td>44</td>\n",
       "    </tr>\n",
       "  </tbody>\n",
       "</table>\n",
       "</div>"
      ],
      "text/plain": [
       "             race-class       race   class   faction             min_date  \\\n",
       "count            414487     414487  414487    414487               414487   \n",
       "unique              111         13      11         3               349476   \n",
       "top     Night Elf Druid  Blood Elf  Hunter  Alliance  2017-06-13 22:16:00   \n",
       "freq              21983      81371   69746    201283                   28   \n",
       "\n",
       "                   max_date  \n",
       "count                414487  \n",
       "unique               332870  \n",
       "top     2017-06-13 22:16:00  \n",
       "freq                     44  "
      ]
     },
     "execution_count": 35,
     "metadata": {},
     "output_type": "execute_result"
    }
   ],
   "source": [
    "df.describe()"
   ]
  },
  {
   "cell_type": "code",
   "execution_count": 38,
   "metadata": {},
   "outputs": [
    {
     "data": {
      "text/plain": [
       "13"
      ]
     },
     "execution_count": 38,
     "metadata": {},
     "output_type": "execute_result"
    }
   ],
   "source": [
    "df['race'].nunique()"
   ]
  },
  {
   "cell_type": "markdown",
   "metadata": {},
   "source": [
    "We'd expect the pool of players to be uniformly distributed across these 13 races, such that the proportion of players posting as each race should be 1/13, or roughly 7.7 percent."
   ]
  },
  {
   "cell_type": "code",
   "execution_count": 119,
   "metadata": {
    "collapsed": true
   },
   "outputs": [],
   "source": [
    "def category_probabilities(data, column_name):\n",
    "    \"\"\"Calculates categorical variable probabilities\n",
    "    from a pandas DataFrame.\n",
    "    ----- Args:\n",
    "            pandas.DataFrame and column title as string.\n",
    "    ----- Returns:\n",
    "            pandas DataFrame containing probabilities and logits.\n",
    "    \"\"\"\n",
    "    s = data[column_name]\n",
    "    probs = s.value_counts(normalize=True).to_frame('p_true') #actual probabilities\n",
    "    probs['p_expected'] = probs.shape[0] * [1 / s.nunique()] #expected probabilities\n",
    "    probs['p_shift'] = probs['p_true'] - probs['p_expected']\n",
    "    \n",
    "    logit = lambda p: np.log(p / (1 - p))\n",
    "    probs['logit_true'] = probs['p_true'].transform(logit)\n",
    "    return probs"
   ]
  },
  {
   "cell_type": "markdown",
   "metadata": {},
   "source": [
    "#### Race Distribution"
   ]
  },
  {
   "cell_type": "code",
   "execution_count": 120,
   "metadata": {},
   "outputs": [],
   "source": [
    "race_probs = category_probabilities(data=df, column_name='race')"
   ]
  },
  {
   "cell_type": "code",
   "execution_count": 122,
   "metadata": {},
   "outputs": [
    {
     "data": {
      "text/html": [
       "<div>\n",
       "<style>\n",
       "    .dataframe thead tr:only-child th {\n",
       "        text-align: right;\n",
       "    }\n",
       "\n",
       "    .dataframe thead th {\n",
       "        text-align: left;\n",
       "    }\n",
       "\n",
       "    .dataframe tbody tr th {\n",
       "        vertical-align: top;\n",
       "    }\n",
       "</style>\n",
       "<table border=\"1\" class=\"dataframe\">\n",
       "  <thead>\n",
       "    <tr style=\"text-align: right;\">\n",
       "      <th></th>\n",
       "      <th>p_true</th>\n",
       "      <th>p_expected</th>\n",
       "      <th>p_shift</th>\n",
       "      <th>logit_true</th>\n",
       "    </tr>\n",
       "  </thead>\n",
       "  <tbody>\n",
       "    <tr>\n",
       "      <th>Blood Elf</th>\n",
       "      <td>0.196317</td>\n",
       "      <td>0.076923</td>\n",
       "      <td>0.119394</td>\n",
       "      <td>-1.409472</td>\n",
       "    </tr>\n",
       "    <tr>\n",
       "      <th>Human</th>\n",
       "      <td>0.184739</td>\n",
       "      <td>0.076923</td>\n",
       "      <td>0.107816</td>\n",
       "      <td>-1.484563</td>\n",
       "    </tr>\n",
       "    <tr>\n",
       "      <th>Night Elf</th>\n",
       "      <td>0.142178</td>\n",
       "      <td>0.076923</td>\n",
       "      <td>0.065255</td>\n",
       "      <td>-1.797315</td>\n",
       "    </tr>\n",
       "    <tr>\n",
       "      <th>Orc</th>\n",
       "      <td>0.084553</td>\n",
       "      <td>0.076923</td>\n",
       "      <td>0.007630</td>\n",
       "      <td>-2.382038</td>\n",
       "    </tr>\n",
       "    <tr>\n",
       "      <th>Tauren</th>\n",
       "      <td>0.068641</td>\n",
       "      <td>0.076923</td>\n",
       "      <td>-0.008282</td>\n",
       "      <td>-2.607747</td>\n",
       "    </tr>\n",
       "    <tr>\n",
       "      <th>Troll</th>\n",
       "      <td>0.058180</td>\n",
       "      <td>0.076923</td>\n",
       "      <td>-0.018743</td>\n",
       "      <td>-2.784266</td>\n",
       "    </tr>\n",
       "    <tr>\n",
       "      <th>Draenei</th>\n",
       "      <td>0.057845</td>\n",
       "      <td>0.076923</td>\n",
       "      <td>-0.019078</td>\n",
       "      <td>-2.790403</td>\n",
       "    </tr>\n",
       "    <tr>\n",
       "      <th>Undead</th>\n",
       "      <td>0.054865</td>\n",
       "      <td>0.076923</td>\n",
       "      <td>-0.022058</td>\n",
       "      <td>-2.846444</td>\n",
       "    </tr>\n",
       "    <tr>\n",
       "      <th>Dwarf</th>\n",
       "      <td>0.037094</td>\n",
       "      <td>0.076923</td>\n",
       "      <td>-0.039829</td>\n",
       "      <td>-3.256499</td>\n",
       "    </tr>\n",
       "    <tr>\n",
       "      <th>Worgen</th>\n",
       "      <td>0.034795</td>\n",
       "      <td>0.076923</td>\n",
       "      <td>-0.042128</td>\n",
       "      <td>-3.322872</td>\n",
       "    </tr>\n",
       "    <tr>\n",
       "      <th>Pandaren</th>\n",
       "      <td>0.033572</td>\n",
       "      <td>0.076923</td>\n",
       "      <td>-0.043351</td>\n",
       "      <td>-3.359926</td>\n",
       "    </tr>\n",
       "    <tr>\n",
       "      <th>Gnome</th>\n",
       "      <td>0.028968</td>\n",
       "      <td>0.076923</td>\n",
       "      <td>-0.047955</td>\n",
       "      <td>-3.512156</td>\n",
       "    </tr>\n",
       "    <tr>\n",
       "      <th>Goblin</th>\n",
       "      <td>0.018251</td>\n",
       "      <td>0.076923</td>\n",
       "      <td>-0.058672</td>\n",
       "      <td>-3.985089</td>\n",
       "    </tr>\n",
       "  </tbody>\n",
       "</table>\n",
       "</div>"
      ],
      "text/plain": [
       "             p_true  p_expected   p_shift  logit_true\n",
       "Blood Elf  0.196317    0.076923  0.119394   -1.409472\n",
       "Human      0.184739    0.076923  0.107816   -1.484563\n",
       "Night Elf  0.142178    0.076923  0.065255   -1.797315\n",
       "Orc        0.084553    0.076923  0.007630   -2.382038\n",
       "Tauren     0.068641    0.076923 -0.008282   -2.607747\n",
       "Troll      0.058180    0.076923 -0.018743   -2.784266\n",
       "Draenei    0.057845    0.076923 -0.019078   -2.790403\n",
       "Undead     0.054865    0.076923 -0.022058   -2.846444\n",
       "Dwarf      0.037094    0.076923 -0.039829   -3.256499\n",
       "Worgen     0.034795    0.076923 -0.042128   -3.322872\n",
       "Pandaren   0.033572    0.076923 -0.043351   -3.359926\n",
       "Gnome      0.028968    0.076923 -0.047955   -3.512156\n",
       "Goblin     0.018251    0.076923 -0.058672   -3.985089"
      ]
     },
     "execution_count": 122,
     "metadata": {},
     "output_type": "execute_result"
    }
   ],
   "source": [
    "race_probs"
   ]
  },
  {
   "cell_type": "code",
   "execution_count": 123,
   "metadata": {},
   "outputs": [
    {
     "data": {
      "image/png": "[encoded data removed]",
      "text/plain": [
       "<matplotlib.figure.Figure at 0x1a47867390>"
      ]
     },
     "metadata": {},
     "output_type": "display_data"
    }
   ],
   "source": [
    "fig, axes = plt.subplots(ncols=2, figsize=(15,6))\n",
    "plot1 = sns.barplot(race_probs.index, race_probs.p_shift, color='navy', ax=axes[0])\n",
    "plt.setp(plot1.get_xticklabels(), rotation=45)\n",
    "\n",
    "plot2 = sns.regplot(x=race_probs.logit_true, y=race_probs.p_true, ax=axes[1])\n",
    "plt.show()"
   ]
  },
  {
   "cell_type": "markdown",
   "metadata": {},
   "source": [
    "Players have higher likelihoods of playing Blood Elf, Human or Night Elf compared to the other races. Orc and Tauren come closest to their expected probabilities. Goblin and Gnome are the least likely to be played. "
   ]
  },
  {
   "cell_type": "markdown",
   "metadata": {},
   "source": [
    "#### Class Distribution"
   ]
  },
  {
   "cell_type": "code",
   "execution_count": 124,
   "metadata": {
    "collapsed": true
   },
   "outputs": [],
   "source": [
    "class_probs = category_probabilities(data=df, column_name='class')"
   ]
  },
  {
   "cell_type": "code",
   "execution_count": 125,
   "metadata": {},
   "outputs": [
    {
     "data": {
      "text/html": [
       "<div>\n",
       "<style>\n",
       "    .dataframe thead tr:only-child th {\n",
       "        text-align: right;\n",
       "    }\n",
       "\n",
       "    .dataframe thead th {\n",
       "        text-align: left;\n",
       "    }\n",
       "\n",
       "    .dataframe tbody tr th {\n",
       "        vertical-align: top;\n",
       "    }\n",
       "</style>\n",
       "<table border=\"1\" class=\"dataframe\">\n",
       "  <thead>\n",
       "    <tr style=\"text-align: right;\">\n",
       "      <th></th>\n",
       "      <th>p_true</th>\n",
       "      <th>p_expected</th>\n",
       "      <th>p_shift</th>\n",
       "      <th>logit_true</th>\n",
       "    </tr>\n",
       "  </thead>\n",
       "  <tbody>\n",
       "    <tr>\n",
       "      <th>Hunter</th>\n",
       "      <td>0.168271</td>\n",
       "      <td>0.090909</td>\n",
       "      <td>0.077362</td>\n",
       "      <td>-1.597933</td>\n",
       "    </tr>\n",
       "    <tr>\n",
       "      <th>Paladin</th>\n",
       "      <td>0.118370</td>\n",
       "      <td>0.090909</td>\n",
       "      <td>0.027461</td>\n",
       "      <td>-2.007953</td>\n",
       "    </tr>\n",
       "    <tr>\n",
       "      <th>Druid</th>\n",
       "      <td>0.116607</td>\n",
       "      <td>0.090909</td>\n",
       "      <td>0.025698</td>\n",
       "      <td>-2.024963</td>\n",
       "    </tr>\n",
       "    <tr>\n",
       "      <th>Warrior</th>\n",
       "      <td>0.095002</td>\n",
       "      <td>0.090909</td>\n",
       "      <td>0.004093</td>\n",
       "      <td>-2.254037</td>\n",
       "    </tr>\n",
       "    <tr>\n",
       "      <th>Death Knight</th>\n",
       "      <td>0.080755</td>\n",
       "      <td>0.090909</td>\n",
       "      <td>-0.010154</td>\n",
       "      <td>-2.432129</td>\n",
       "    </tr>\n",
       "    <tr>\n",
       "      <th>Mage</th>\n",
       "      <td>0.079409</td>\n",
       "      <td>0.090909</td>\n",
       "      <td>-0.011500</td>\n",
       "      <td>-2.450404</td>\n",
       "    </tr>\n",
       "    <tr>\n",
       "      <th>Priest</th>\n",
       "      <td>0.077614</td>\n",
       "      <td>0.090909</td>\n",
       "      <td>-0.013295</td>\n",
       "      <td>-2.475216</td>\n",
       "    </tr>\n",
       "    <tr>\n",
       "      <th>Shaman</th>\n",
       "      <td>0.077131</td>\n",
       "      <td>0.090909</td>\n",
       "      <td>-0.013778</td>\n",
       "      <td>-2.481975</td>\n",
       "    </tr>\n",
       "    <tr>\n",
       "      <th>Warlock</th>\n",
       "      <td>0.069515</td>\n",
       "      <td>0.090909</td>\n",
       "      <td>-0.021394</td>\n",
       "      <td>-2.594166</td>\n",
       "    </tr>\n",
       "    <tr>\n",
       "      <th>Rogue</th>\n",
       "      <td>0.067218</td>\n",
       "      <td>0.090909</td>\n",
       "      <td>-0.023691</td>\n",
       "      <td>-2.630230</td>\n",
       "    </tr>\n",
       "    <tr>\n",
       "      <th>Monk</th>\n",
       "      <td>0.050108</td>\n",
       "      <td>0.090909</td>\n",
       "      <td>-0.040801</td>\n",
       "      <td>-2.942173</td>\n",
       "    </tr>\n",
       "  </tbody>\n",
       "</table>\n",
       "</div>"
      ],
      "text/plain": [
       "                p_true  p_expected   p_shift  logit_true\n",
       "Hunter        0.168271    0.090909  0.077362   -1.597933\n",
       "Paladin       0.118370    0.090909  0.027461   -2.007953\n",
       "Druid         0.116607    0.090909  0.025698   -2.024963\n",
       "Warrior       0.095002    0.090909  0.004093   -2.254037\n",
       "Death Knight  0.080755    0.090909 -0.010154   -2.432129\n",
       "Mage          0.079409    0.090909 -0.011500   -2.450404\n",
       "Priest        0.077614    0.090909 -0.013295   -2.475216\n",
       "Shaman        0.077131    0.090909 -0.013778   -2.481975\n",
       "Warlock       0.069515    0.090909 -0.021394   -2.594166\n",
       "Rogue         0.067218    0.090909 -0.023691   -2.630230\n",
       "Monk          0.050108    0.090909 -0.040801   -2.942173"
      ]
     },
     "execution_count": 125,
     "metadata": {},
     "output_type": "execute_result"
    }
   ],
   "source": [
    "class_probs"
   ]
  },
  {
   "cell_type": "code",
   "execution_count": 126,
   "metadata": {},
   "outputs": [
    {
     "data": {
      "image/png": "[encoded data removed]",
      "text/plain": [
       "<matplotlib.figure.Figure at 0x1a46efa438>"
      ]
     },
     "metadata": {},
     "output_type": "display_data"
    }
   ],
   "source": [
    "fig, axes = plt.subplots(ncols=2, figsize=(15,6))\n",
    "plot1 = sns.barplot(class_probs.index, class_probs.p_shift, color='grey', ax=axes[0])\n",
    "plt.setp(plot1.get_xticklabels(), rotation=45)\n",
    "\n",
    "plot2 = sns.regplot(x=class_probs.logit_true, y=class_probs.p_true, ax=axes[1])\n",
    "plt.show()"
   ]
  },
  {
   "cell_type": "markdown",
   "metadata": {},
   "source": [
    "Players have higher likelihoods of playing Hunter, Paladin or Druid compared to the other classes with Hunter being pretty dominant over the second most popular class, Paladin. Actual proportions for the Warrior class come close to its expected proportion and Monk and Rogue are the least probable classes to see."
   ]
  },
  {
   "cell_type": "markdown",
   "metadata": {},
   "source": [
    "#### Race and Class Combinations"
   ]
  },
  {
   "cell_type": "code",
   "execution_count": 127,
   "metadata": {
    "collapsed": true
   },
   "outputs": [],
   "source": [
    "combo_probs = category_probabilities(data=df, column_name='race-class')"
   ]
  },
  {
   "cell_type": "code",
   "execution_count": 149,
   "metadata": {},
   "outputs": [
    {
     "data": {
      "text/html": [
       "<div>\n",
       "<style>\n",
       "    .dataframe thead tr:only-child th {\n",
       "        text-align: right;\n",
       "    }\n",
       "\n",
       "    .dataframe thead th {\n",
       "        text-align: left;\n",
       "    }\n",
       "\n",
       "    .dataframe tbody tr th {\n",
       "        vertical-align: top;\n",
       "    }\n",
       "</style>\n",
       "<table border=\"1\" class=\"dataframe\">\n",
       "  <thead>\n",
       "    <tr style=\"text-align: right;\">\n",
       "      <th></th>\n",
       "      <th>p_true</th>\n",
       "      <th>p_expected</th>\n",
       "      <th>p_shift</th>\n",
       "      <th>logit_true</th>\n",
       "    </tr>\n",
       "  </thead>\n",
       "  <tbody>\n",
       "    <tr>\n",
       "      <th>Night Elf Druid</th>\n",
       "      <td>0.053037</td>\n",
       "      <td>0.009009</td>\n",
       "      <td>0.044028</td>\n",
       "      <td>-2.882277</td>\n",
       "    </tr>\n",
       "    <tr>\n",
       "      <th>Human Paladin</th>\n",
       "      <td>0.047295</td>\n",
       "      <td>0.009009</td>\n",
       "      <td>0.038286</td>\n",
       "      <td>-3.002909</td>\n",
       "    </tr>\n",
       "    <tr>\n",
       "      <th>Blood Elf Paladin</th>\n",
       "      <td>0.045258</td>\n",
       "      <td>0.009009</td>\n",
       "      <td>0.036249</td>\n",
       "      <td>-3.049053</td>\n",
       "    </tr>\n",
       "    <tr>\n",
       "      <th>Blood Elf Demon Hunter</th>\n",
       "      <td>0.032184</td>\n",
       "      <td>0.009009</td>\n",
       "      <td>0.023175</td>\n",
       "      <td>-3.403561</td>\n",
       "    </tr>\n",
       "    <tr>\n",
       "      <th>Tauren Druid</th>\n",
       "      <td>0.031241</td>\n",
       "      <td>0.009009</td>\n",
       "      <td>0.022232</td>\n",
       "      <td>-3.434284</td>\n",
       "    </tr>\n",
       "  </tbody>\n",
       "</table>\n",
       "</div>"
      ],
      "text/plain": [
       "                          p_true  p_expected   p_shift  logit_true\n",
       "Night Elf Druid         0.053037    0.009009  0.044028   -2.882277\n",
       "Human Paladin           0.047295    0.009009  0.038286   -3.002909\n",
       "Blood Elf Paladin       0.045258    0.009009  0.036249   -3.049053\n",
       "Blood Elf Demon Hunter  0.032184    0.009009  0.023175   -3.403561\n",
       "Tauren Druid            0.031241    0.009009  0.022232   -3.434284"
      ]
     },
     "execution_count": 149,
     "metadata": {},
     "output_type": "execute_result"
    }
   ],
   "source": [
    "combo_probs.head()"
   ]
  },
  {
   "cell_type": "code",
   "execution_count": 150,
   "metadata": {},
   "outputs": [
    {
     "data": {
      "text/html": [
       "<div>\n",
       "<style>\n",
       "    .dataframe thead tr:only-child th {\n",
       "        text-align: right;\n",
       "    }\n",
       "\n",
       "    .dataframe thead th {\n",
       "        text-align: left;\n",
       "    }\n",
       "\n",
       "    .dataframe tbody tr th {\n",
       "        vertical-align: top;\n",
       "    }\n",
       "</style>\n",
       "<table border=\"1\" class=\"dataframe\">\n",
       "  <thead>\n",
       "    <tr style=\"text-align: right;\">\n",
       "      <th></th>\n",
       "      <th>level_0</th>\n",
       "      <th>level_1</th>\n",
       "      <th>0</th>\n",
       "    </tr>\n",
       "  </thead>\n",
       "  <tbody>\n",
       "    <tr>\n",
       "      <th>0</th>\n",
       "      <td>Hunter</td>\n",
       "      <td>Blood Elf</td>\n",
       "      <td>0.033034</td>\n",
       "    </tr>\n",
       "    <tr>\n",
       "      <th>1</th>\n",
       "      <td>Hunter</td>\n",
       "      <td>Human</td>\n",
       "      <td>0.031086</td>\n",
       "    </tr>\n",
       "    <tr>\n",
       "      <th>2</th>\n",
       "      <td>Hunter</td>\n",
       "      <td>Night Elf</td>\n",
       "      <td>0.023924</td>\n",
       "    </tr>\n",
       "    <tr>\n",
       "      <th>13</th>\n",
       "      <td>Paladin</td>\n",
       "      <td>Blood Elf</td>\n",
       "      <td>0.023238</td>\n",
       "    </tr>\n",
       "    <tr>\n",
       "      <th>26</th>\n",
       "      <td>Druid</td>\n",
       "      <td>Blood Elf</td>\n",
       "      <td>0.022892</td>\n",
       "    </tr>\n",
       "  </tbody>\n",
       "</table>\n",
       "</div>"
      ],
      "text/plain": [
       "    level_0    level_1         0\n",
       "0    Hunter  Blood Elf  0.033034\n",
       "1    Hunter      Human  0.031086\n",
       "2    Hunter  Night Elf  0.023924\n",
       "13  Paladin  Blood Elf  0.023238\n",
       "26    Druid  Blood Elf  0.022892"
      ]
     },
     "execution_count": 150,
     "metadata": {},
     "output_type": "execute_result"
    }
   ],
   "source": [
    "#Matrix multiplication between race and class probability frames to compare to race-class frame.\n",
    "race_probs[['p_true']].dot(class_probs[['p_true']].T).unstack().reset_index().sort_values(by=0,ascending=False).head()"
   ]
  },
  {
   "cell_type": "code",
   "execution_count": null,
   "metadata": {
    "collapsed": true
   },
   "outputs": [],
   "source": []
  }
 ],
 "metadata": {
  "kernelspec": {
   "display_name": "Python 3",
   "language": "python",
   "name": "python3"
  },
  "language_info": {
   "codemirror_mode": {
    "name": "ipython",
    "version": 3
   },
   "file_extension": ".py",
   "mimetype": "text/x-python",
   "name": "python",
   "nbconvert_exporter": "python",
   "pygments_lexer": "ipython3",
   "version": "3.6.5"
  }
 },
 "nbformat": 4,
 "nbformat_minor": 2
}
